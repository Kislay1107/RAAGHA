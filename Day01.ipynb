{
 "cells": [
  {
   "cell_type": "code",
   "execution_count": 1,
   "id": "e2b082d9",
   "metadata": {},
   "outputs": [
    {
     "name": "stdout",
     "output_type": "stream",
     "text": [
      "Kislay Ravi Neha\n"
     ]
    }
   ],
   "source": [
    "print(\"Kislay\", \"Ravi\", \"Neha\")"
   ]
  },
  {
   "cell_type": "code",
   "execution_count": 2,
   "id": "85b3b54a",
   "metadata": {},
   "outputs": [
    {
     "name": "stdout",
     "output_type": "stream",
     "text": [
      "Kislay-Ravi-Neha\n"
     ]
    }
   ],
   "source": [
    "print(\"Kislay\", \"Ravi\", \"Neha\", sep= \"-\")"
   ]
  },
  {
   "cell_type": "code",
   "execution_count": 3,
   "id": "1ca09a5b",
   "metadata": {},
   "outputs": [
    {
     "name": "stdout",
     "output_type": "stream",
     "text": [
      "Kislay/Ravi\n"
     ]
    }
   ],
   "source": [
    "print(\"Kislay\", end=\"/\")\n",
    "print(\"Ravi\")"
   ]
  },
  {
   "cell_type": "code",
   "execution_count": 4,
   "id": "d9eb7214",
   "metadata": {},
   "outputs": [
    {
     "name": "stdout",
     "output_type": "stream",
     "text": [
      "5\n"
     ]
    }
   ],
   "source": [
    "print(5)"
   ]
  },
  {
   "cell_type": "code",
   "execution_count": 5,
   "id": "46ef009f",
   "metadata": {},
   "outputs": [
    {
     "name": "stdout",
     "output_type": "stream",
     "text": [
      "Kislay\n"
     ]
    }
   ],
   "source": [
    "print(\"Kislay\")"
   ]
  },
  {
   "cell_type": "code",
   "execution_count": 6,
   "id": "54338942",
   "metadata": {},
   "outputs": [
    {
     "name": "stdout",
     "output_type": "stream",
     "text": [
      "<class 'int'>\n"
     ]
    }
   ],
   "source": [
    "print(type(4))\n"
   ]
  },
  {
   "cell_type": "code",
   "execution_count": 7,
   "id": "c4962d99",
   "metadata": {},
   "outputs": [
    {
     "name": "stdout",
     "output_type": "stream",
     "text": [
      "5.6\n"
     ]
    }
   ],
   "source": [
    "print(5.6)"
   ]
  },
  {
   "cell_type": "code",
   "execution_count": 8,
   "id": "856c6227",
   "metadata": {},
   "outputs": [
    {
     "name": "stdout",
     "output_type": "stream",
     "text": [
      "(5+7j)\n"
     ]
    }
   ],
   "source": [
    "print(5 + 7j)"
   ]
  },
  {
   "cell_type": "code",
   "execution_count": 9,
   "id": "ab93ee6c",
   "metadata": {},
   "outputs": [
    {
     "name": "stdout",
     "output_type": "stream",
     "text": [
      "[1, 2, 34]\n"
     ]
    }
   ],
   "source": [
    "print([1, 2, 34])"
   ]
  },
  {
   "cell_type": "code",
   "execution_count": 10,
   "id": "1e9a389a",
   "metadata": {},
   "outputs": [
    {
     "name": "stdout",
     "output_type": "stream",
     "text": [
      "(1, 2, 3)\n"
     ]
    }
   ],
   "source": [
    "print((1, 2, 3))"
   ]
  },
  {
   "cell_type": "code",
   "execution_count": 11,
   "id": "30716bb7",
   "metadata": {},
   "outputs": [
    {
     "name": "stdout",
     "output_type": "stream",
     "text": [
      "{3, 4, 5}\n"
     ]
    }
   ],
   "source": [
    "print({3, 4, 5})"
   ]
  },
  {
   "cell_type": "code",
   "execution_count": 12,
   "id": "4260c98c",
   "metadata": {},
   "outputs": [
    {
     "name": "stdout",
     "output_type": "stream",
     "text": [
      "{'name': 'Kislay'}\n"
     ]
    }
   ],
   "source": [
    "print({\"name\" : \"Kislay\"})"
   ]
  },
  {
   "cell_type": "code",
   "execution_count": 13,
   "id": "fa21bcc8",
   "metadata": {},
   "outputs": [
    {
     "name": "stdout",
     "output_type": "stream",
     "text": [
      "True\n"
     ]
    }
   ],
   "source": [
    "print(True)"
   ]
  },
  {
   "cell_type": "code",
   "execution_count": 14,
   "id": "3bae2be1",
   "metadata": {},
   "outputs": [],
   "source": [
    "# Static Typing\n",
    "# int age = 34\n",
    "\n",
    "age = 34"
   ]
  },
  {
   "cell_type": "code",
   "execution_count": 15,
   "id": "3ecfc97e",
   "metadata": {},
   "outputs": [],
   "source": [
    "# Static vs Dynamic Binding\n",
    "age = 34\n",
    "\n",
    "age = \"THREE\"\n"
   ]
  },
  {
   "cell_type": "code",
   "execution_count": 16,
   "id": "bef043b6",
   "metadata": {},
   "outputs": [],
   "source": [
    "a, b, c = 3, 4, 5"
   ]
  },
  {
   "cell_type": "code",
   "execution_count": 17,
   "id": "d98844b3",
   "metadata": {},
   "outputs": [
    {
     "name": "stdout",
     "output_type": "stream",
     "text": [
      "3\n"
     ]
    }
   ],
   "source": [
    "print(a)"
   ]
  },
  {
   "cell_type": "code",
   "execution_count": 18,
   "id": "3f5780d7",
   "metadata": {},
   "outputs": [],
   "source": [
    "a = b = c =4"
   ]
  },
  {
   "cell_type": "code",
   "execution_count": 19,
   "id": "e640dcf5",
   "metadata": {},
   "outputs": [
    {
     "name": "stdout",
     "output_type": "stream",
     "text": [
      "inf\n"
     ]
    }
   ],
   "source": [
    "print(1e309)"
   ]
  },
  {
   "cell_type": "code",
   "execution_count": 20,
   "id": "0d59fb76",
   "metadata": {},
   "outputs": [
    {
     "name": "stdout",
     "output_type": "stream",
     "text": [
      "3.5e+307\n"
     ]
    }
   ],
   "source": [
    "print(3.5e307)"
   ]
  },
  {
   "cell_type": "code",
   "execution_count": 53,
   "id": "4fe95e79",
   "metadata": {},
   "outputs": [
    {
     "data": {
      "text/plain": [
       "str"
      ]
     },
     "execution_count": 53,
     "metadata": {},
     "output_type": "execute_result"
    }
   ],
   "source": [
    "name_1 = input(\"Enter your name: \")\n",
    "type(name_1)"
   ]
  },
  {
   "cell_type": "code",
   "execution_count": 25,
   "id": "69617bb7",
   "metadata": {},
   "outputs": [
    {
     "name": "stdout",
     "output_type": "stream",
     "text": [
      "6\n"
     ]
    }
   ],
   "source": [
    "print(name_1)"
   ]
  },
  {
   "cell_type": "code",
   "execution_count": 27,
   "id": "3ac9edd3",
   "metadata": {},
   "outputs": [
    {
     "data": {
      "text/plain": [
       "str"
      ]
     },
     "execution_count": 27,
     "metadata": {},
     "output_type": "execute_result"
    }
   ],
   "source": [
    "type(name_1)"
   ]
  },
  {
   "cell_type": "code",
   "execution_count": 34,
   "id": "28ac634b",
   "metadata": {},
   "outputs": [
    {
     "name": "stdout",
     "output_type": "stream",
     "text": [
      "9\n",
      "<class 'int'>\n"
     ]
    }
   ],
   "source": [
    "num_1= int(input(\"first num\"))\n",
    "num_2= int(input(\"second num\"))\n",
    "\n",
    "print(num_1 + num_2)\n",
    "print(type(num_1))"
   ]
  },
  {
   "cell_type": "code",
   "execution_count": 36,
   "id": "5807b2fc",
   "metadata": {},
   "outputs": [
    {
     "name": "stdout",
     "output_type": "stream",
     "text": [
      "<class 'str'>\n",
      "<class 'int'>\n"
     ]
    }
   ],
   "source": [
    "print(type(\"5\"))\n",
    "print(type(int(\"5\")))"
   ]
  },
  {
   "cell_type": "code",
   "execution_count": 37,
   "id": "a32fa383",
   "metadata": {},
   "outputs": [
    {
     "data": {
      "text/plain": [
       "7.5"
      ]
     },
     "execution_count": 37,
     "metadata": {},
     "output_type": "execute_result"
    }
   ],
   "source": [
    "3 + 4.5"
   ]
  },
  {
   "cell_type": "code",
   "execution_count": 38,
   "id": "9270922a",
   "metadata": {},
   "outputs": [],
   "source": [
    "num = 2"
   ]
  },
  {
   "cell_type": "code",
   "execution_count": 41,
   "id": "49ad7f09",
   "metadata": {},
   "outputs": [],
   "source": [
    "num = 0xFF"
   ]
  },
  {
   "cell_type": "code",
   "execution_count": 42,
   "id": "189ea78f",
   "metadata": {},
   "outputs": [
    {
     "name": "stdout",
     "output_type": "stream",
     "text": [
      "255\n"
     ]
    }
   ],
   "source": [
    "print(num)"
   ]
  },
  {
   "cell_type": "code",
   "execution_count": 47,
   "id": "23b36549",
   "metadata": {},
   "outputs": [],
   "source": [
    "num = 6j\n"
   ]
  },
  {
   "cell_type": "code",
   "execution_count": 49,
   "id": "1096845d",
   "metadata": {},
   "outputs": [
    {
     "data": {
      "text/plain": [
       "6.0"
      ]
     },
     "execution_count": 49,
     "metadata": {},
     "output_type": "execute_result"
    }
   ],
   "source": [
    "num.imag"
   ]
  },
  {
   "cell_type": "code",
   "execution_count": 51,
   "id": "e5ad6372",
   "metadata": {},
   "outputs": [],
   "source": [
    "age = None"
   ]
  },
  {
   "cell_type": "code",
   "execution_count": null,
   "id": "0d4d63ee",
   "metadata": {},
   "outputs": [],
   "source": []
  }
 ],
 "metadata": {
  "kernelspec": {
   "display_name": "base",
   "language": "python",
   "name": "python3"
  },
  "language_info": {
   "codemirror_mode": {
    "name": "ipython",
    "version": 3
   },
   "file_extension": ".py",
   "mimetype": "text/x-python",
   "name": "python",
   "nbconvert_exporter": "python",
   "pygments_lexer": "ipython3",
   "version": "3.12.7"
  }
 },
 "nbformat": 4,
 "nbformat_minor": 5
}
