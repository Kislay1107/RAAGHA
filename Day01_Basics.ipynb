{
  "nbformat": 4,
  "nbformat_minor": 0,
  "metadata": {
    "colab": {
      "provenance": []
    },
    "kernelspec": {
      "name": "python3",
      "display_name": "Python 3"
    },
    "language_info": {
      "name": "python"
    }
  },
  "cells": [
    {
      "cell_type": "code",
      "execution_count": 1,
      "metadata": {
        "id": "f4Y5p7qw1M3D"
      },
      "outputs": [],
      "source": [
        "# showing the output the enduser"
      ]
    },
    {
      "cell_type": "code",
      "source": [
        "# func_name()\n",
        "\n",
        "print('Kislay')"
      ],
      "metadata": {
        "colab": {
          "base_uri": "https://localhost:8080/"
        },
        "id": "5vMMrCEE1c8z",
        "outputId": "15fa0180-ccbe-464e-b33e-a160a81f38b9"
      },
      "execution_count": 8,
      "outputs": [
        {
          "output_type": "stream",
          "name": "stdout",
          "text": [
            "Kislay\n"
          ]
        }
      ]
    },
    {
      "cell_type": "code",
      "source": [
        "print(I am Kislay, how are you)"
      ],
      "metadata": {
        "colab": {
          "base_uri": "https://localhost:8080/",
          "height": 108
        },
        "id": "VCdohC3P1sv0",
        "outputId": "298f7eaf-6440-431b-ff66-2e184a4c68ab"
      },
      "execution_count": 5,
      "outputs": [
        {
          "output_type": "error",
          "ename": "SyntaxError",
          "evalue": "invalid syntax. Perhaps you forgot a comma? (ipython-input-1858157907.py, line 1)",
          "traceback": [
            "\u001b[0;36m  File \u001b[0;32m\"/tmp/ipython-input-1858157907.py\"\u001b[0;36m, line \u001b[0;32m1\u001b[0m\n\u001b[0;31m    print(I am Kislay, how are you)\u001b[0m\n\u001b[0m          ^\u001b[0m\n\u001b[0;31mSyntaxError\u001b[0m\u001b[0;31m:\u001b[0m invalid syntax. Perhaps you forgot a comma?\n"
          ]
        }
      ]
    },
    {
      "cell_type": "code",
      "source": [
        "print(5)\n",
        "print(1.5)"
      ],
      "metadata": {
        "colab": {
          "base_uri": "https://localhost:8080/"
        },
        "id": "XiRTAlGz2bsx",
        "outputId": "9cee411e-06b2-45be-e331-6cd6b6eadd92"
      },
      "execution_count": 6,
      "outputs": [
        {
          "output_type": "stream",
          "name": "stdout",
          "text": [
            "5\n",
            "1.5\n"
          ]
        }
      ]
    },
    {
      "cell_type": "code",
      "source": [
        "# Numbers - Integer, float, Complex we dont need the double quotation/single quotation\n",
        "# String - needs the double quotation/single quotation"
      ],
      "metadata": {
        "id": "-WJYSbTV26Gt"
      },
      "execution_count": 9,
      "outputs": []
    },
    {
      "cell_type": "code",
      "source": [
        "# Data Types including complex numbers"
      ],
      "metadata": {
        "id": "KjSxZGXW3I4Y"
      },
      "execution_count": 10,
      "outputs": []
    },
    {
      "cell_type": "code",
      "source": [
        "# string\n",
        "print(\"Hi how are you\")"
      ],
      "metadata": {
        "colab": {
          "base_uri": "https://localhost:8080/"
        },
        "id": "3pxkqdwb3mNL",
        "outputId": "22f58991-b05f-46a8-ec6c-b1c8f135ec35"
      },
      "execution_count": 21,
      "outputs": [
        {
          "output_type": "stream",
          "name": "stdout",
          "text": [
            "Hi how are you\n"
          ]
        }
      ]
    },
    {
      "cell_type": "code",
      "source": [
        "# integer\n",
        "print(3)\n",
        "print(-3)\n",
        "\n",
        "type(3)"
      ],
      "metadata": {
        "colab": {
          "base_uri": "https://localhost:8080/"
        },
        "id": "XMLqIwPb3pLq",
        "outputId": "65c96e08-12b5-49a1-e193-0079b807a22a"
      },
      "execution_count": 56,
      "outputs": [
        {
          "output_type": "stream",
          "name": "stdout",
          "text": [
            "3\n",
            "-3\n"
          ]
        },
        {
          "output_type": "execute_result",
          "data": {
            "text/plain": [
              "int"
            ]
          },
          "metadata": {},
          "execution_count": 56
        }
      ]
    },
    {
      "cell_type": "code",
      "source": [
        "print(1e309)"
      ],
      "metadata": {
        "colab": {
          "base_uri": "https://localhost:8080/"
        },
        "id": "t-9B1mE94a11",
        "outputId": "0d824eea-29d8-45e2-a475-f47fe05909f2"
      },
      "execution_count": 25,
      "outputs": [
        {
          "output_type": "stream",
          "name": "stdout",
          "text": [
            "inf\n"
          ]
        }
      ]
    },
    {
      "cell_type": "code",
      "source": [
        "# float or decimal number\n",
        "print(3.34224)\n",
        "print(-3.123123)\n",
        "\n",
        "type(3.4)"
      ],
      "metadata": {
        "colab": {
          "base_uri": "https://localhost:8080/"
        },
        "id": "lQmyIZP03qiq",
        "outputId": "b4562955-20cb-4888-d778-f8a747211520"
      },
      "execution_count": 57,
      "outputs": [
        {
          "output_type": "stream",
          "name": "stdout",
          "text": [
            "3.34224\n",
            "-3.123123\n"
          ]
        },
        {
          "output_type": "execute_result",
          "data": {
            "text/plain": [
              "float"
            ]
          },
          "metadata": {},
          "execution_count": 57
        }
      ]
    },
    {
      "cell_type": "code",
      "source": [
        "print(1.1e308)"
      ],
      "metadata": {
        "colab": {
          "base_uri": "https://localhost:8080/"
        },
        "id": "-1aFAEBW42ao",
        "outputId": "c7a486d6-1b27-4ad5-e7d7-eb21a5250d85"
      },
      "execution_count": 30,
      "outputs": [
        {
          "output_type": "stream",
          "name": "stdout",
          "text": [
            "1.1e+308\n"
          ]
        }
      ]
    },
    {
      "cell_type": "code",
      "source": [
        "# complex\n",
        "print(2.7 + 3j)\n",
        "\n",
        "type(2.7 + 3j)"
      ],
      "metadata": {
        "colab": {
          "base_uri": "https://localhost:8080/"
        },
        "id": "sjYwfYWn3rkp",
        "outputId": "09ccf549-a9cf-48fa-dada-39280ec28f0c"
      },
      "execution_count": 58,
      "outputs": [
        {
          "output_type": "stream",
          "name": "stdout",
          "text": [
            "(2.7+3j)\n"
          ]
        },
        {
          "output_type": "execute_result",
          "data": {
            "text/plain": [
              "complex"
            ]
          },
          "metadata": {},
          "execution_count": 58
        }
      ]
    },
    {
      "cell_type": "code",
      "source": [
        "# boolean\n",
        "print(True)\n",
        "\n",
        "type(True)"
      ],
      "metadata": {
        "colab": {
          "base_uri": "https://localhost:8080/"
        },
        "id": "yIHWni5E3uG1",
        "outputId": "485141a1-e883-4db0-ce7c-7c4add708428"
      },
      "execution_count": 59,
      "outputs": [
        {
          "output_type": "stream",
          "name": "stdout",
          "text": [
            "True\n"
          ]
        },
        {
          "output_type": "execute_result",
          "data": {
            "text/plain": [
              "bool"
            ]
          },
          "metadata": {},
          "execution_count": 59
        }
      ]
    },
    {
      "cell_type": "code",
      "source": [
        "False"
      ],
      "metadata": {
        "colab": {
          "base_uri": "https://localhost:8080/"
        },
        "id": "Bg-UBT2U5thV",
        "outputId": "26e5885e-7463-45df-a506-03f26be4814c"
      },
      "execution_count": 38,
      "outputs": [
        {
          "output_type": "execute_result",
          "data": {
            "text/plain": [
              "False"
            ]
          },
          "metadata": {},
          "execution_count": 38
        }
      ]
    },
    {
      "cell_type": "code",
      "source": [
        "# list\n",
        "\n",
        "print([1,2,3, \"Rahila\", \"Megha12\", True])"
      ],
      "metadata": {
        "colab": {
          "base_uri": "https://localhost:8080/"
        },
        "id": "_ZsXQytG3xE3",
        "outputId": "fbcc355e-0b49-4e46-cb81-5bfd0e660d20"
      },
      "execution_count": 40,
      "outputs": [
        {
          "output_type": "stream",
          "name": "stdout",
          "text": [
            "[1, 2, 3, 'Rahila', 'Megha12', True]\n"
          ]
        }
      ]
    },
    {
      "cell_type": "code",
      "source": [
        "# tuple\n",
        "print((1,2,3, \"Rahila\", \"Megha12\", True))\n",
        "\n",
        "type((1, 2, 3, 'Rahila', 'Megha12', True))"
      ],
      "metadata": {
        "colab": {
          "base_uri": "https://localhost:8080/"
        },
        "id": "a485jwn633fT",
        "outputId": "a13a40ad-ee2d-442c-8c03-d1f41450c26d"
      },
      "execution_count": 60,
      "outputs": [
        {
          "output_type": "stream",
          "name": "stdout",
          "text": [
            "(1, 2, 3, 'Rahila', 'Megha12', True)\n"
          ]
        },
        {
          "output_type": "execute_result",
          "data": {
            "text/plain": [
              "tuple"
            ]
          },
          "metadata": {},
          "execution_count": 60
        }
      ]
    },
    {
      "cell_type": "code",
      "source": [
        "# set\n",
        "print({1,2,3, \"Rahila\", \"Megha12\", True})"
      ],
      "metadata": {
        "colab": {
          "base_uri": "https://localhost:8080/"
        },
        "id": "CfPE7Kj234Pv",
        "outputId": "c4738709-3480-44bd-b39a-07330b19c8d3"
      },
      "execution_count": 42,
      "outputs": [
        {
          "output_type": "stream",
          "name": "stdout",
          "text": [
            "{'Rahila', 1, 2, 3, 'Megha12'}\n"
          ]
        }
      ]
    },
    {
      "cell_type": "code",
      "source": [
        "# dictionary -> key - value pair\n",
        "print({\"name\" : \"Kislay\", \"age\" : 36, \"gender\" : \"male\"})\n",
        "\n",
        "type({'name': 'Kislay', 'age': 36, 'gender': 'male'})"
      ],
      "metadata": {
        "colab": {
          "base_uri": "https://localhost:8080/"
        },
        "id": "UzQSuiQv35cQ",
        "outputId": "f38e0247-b6a5-402e-a2df-cf07366e65e9"
      },
      "execution_count": 61,
      "outputs": [
        {
          "output_type": "stream",
          "name": "stdout",
          "text": [
            "{'name': 'Kislay', 'age': 36, 'gender': 'male'}\n"
          ]
        },
        {
          "output_type": "execute_result",
          "data": {
            "text/plain": [
              "dict"
            ]
          },
          "metadata": {},
          "execution_count": 61
        }
      ]
    },
    {
      "cell_type": "code",
      "source": [
        "print(\"Kislay\", end = \"-\")\n",
        "print(\"Megha\", end = \"-\")\n",
        "print(\"Rahila\", end = \"-\")"
      ],
      "metadata": {
        "colab": {
          "base_uri": "https://localhost:8080/"
        },
        "id": "i0eXxR5L610e",
        "outputId": "7c81623e-f11a-4999-a08b-57898a1c6832"
      },
      "execution_count": 49,
      "outputs": [
        {
          "output_type": "stream",
          "name": "stdout",
          "text": [
            "Kislay-Megha-Rahila-"
          ]
        }
      ]
    },
    {
      "cell_type": "code",
      "source": [
        "print(\"Kislay\", \"Raj\", sep = \" \")"
      ],
      "metadata": {
        "colab": {
          "base_uri": "https://localhost:8080/"
        },
        "id": "YgqOiY8S7Din",
        "outputId": "18e7a371-4088-4a0f-f0f9-64c569511a7e"
      },
      "execution_count": 54,
      "outputs": [
        {
          "output_type": "stream",
          "name": "stdout",
          "text": [
            "Kislay Raj\n"
          ]
        }
      ]
    },
    {
      "cell_type": "code",
      "source": [
        "type(\"Kislay\")"
      ],
      "metadata": {
        "colab": {
          "base_uri": "https://localhost:8080/"
        },
        "id": "WxJhH3727vO-",
        "outputId": "905af133-5665-4ce4-9330-e49eb9a1b842"
      },
      "execution_count": 55,
      "outputs": [
        {
          "output_type": "execute_result",
          "data": {
            "text/plain": [
              "str"
            ]
          },
          "metadata": {},
          "execution_count": 55
        }
      ]
    },
    {
      "cell_type": "code",
      "source": [
        "type(\"2\")"
      ],
      "metadata": {
        "colab": {
          "base_uri": "https://localhost:8080/"
        },
        "id": "yQq46khp8In5",
        "outputId": "a614bad2-38d7-455f-e708-c602f0404d5d"
      },
      "execution_count": 62,
      "outputs": [
        {
          "output_type": "execute_result",
          "data": {
            "text/plain": [
              "str"
            ]
          },
          "metadata": {},
          "execution_count": 62
        }
      ]
    },
    {
      "cell_type": "code",
      "source": [
        "# Variables\n",
        "\n",
        "name = \"Kislay\""
      ],
      "metadata": {
        "id": "LRk7MGQv8z5a"
      },
      "execution_count": 64,
      "outputs": []
    },
    {
      "cell_type": "code",
      "source": [
        "print(name)"
      ],
      "metadata": {
        "colab": {
          "base_uri": "https://localhost:8080/"
        },
        "id": "P4OALuan87aQ",
        "outputId": "1c256655-2290-46f7-c180-6d010bf65819"
      },
      "execution_count": 65,
      "outputs": [
        {
          "output_type": "stream",
          "name": "stdout",
          "text": [
            "Kislay\n"
          ]
        }
      ]
    },
    {
      "cell_type": "code",
      "source": [
        "print(type(name))"
      ],
      "metadata": {
        "colab": {
          "base_uri": "https://localhost:8080/"
        },
        "id": "SfsnYsHM9Jzc",
        "outputId": "e29fe4fb-6243-4791-97bd-33e70a3140db"
      },
      "execution_count": 66,
      "outputs": [
        {
          "output_type": "stream",
          "name": "stdout",
          "text": [
            "<class 'str'>\n"
          ]
        }
      ]
    },
    {
      "cell_type": "code",
      "source": [
        "age = 12\n",
        "is_married = False"
      ],
      "metadata": {
        "id": "FcUuzTvx9Oms"
      },
      "execution_count": 67,
      "outputs": []
    },
    {
      "cell_type": "code",
      "source": [
        "c_num = 3 + 5j"
      ],
      "metadata": {
        "id": "9ccxdjoJ9ZkB"
      },
      "execution_count": 68,
      "outputs": []
    },
    {
      "cell_type": "code",
      "source": [
        "c_num.real"
      ],
      "metadata": {
        "colab": {
          "base_uri": "https://localhost:8080/"
        },
        "id": "YgBRwHcT9eFf",
        "outputId": "bb709c80-1b1d-4811-8def-8a16d1d29faf"
      },
      "execution_count": 73,
      "outputs": [
        {
          "output_type": "execute_result",
          "data": {
            "text/plain": [
              "3.0"
            ]
          },
          "metadata": {},
          "execution_count": 73
        }
      ]
    },
    {
      "cell_type": "code",
      "source": [
        "# Static vs Dynamic Typing"
      ],
      "metadata": {
        "id": "E77LtIeG9faX"
      },
      "execution_count": 74,
      "outputs": []
    },
    {
      "cell_type": "code",
      "source": [
        "# str name = \"Rahila\" -> Other programming language # Static Typing\n",
        "\n",
        "name = \"Rahila\"  # Dynamic Typing"
      ],
      "metadata": {
        "id": "3_QyIdNH-I44"
      },
      "execution_count": 76,
      "outputs": []
    },
    {
      "cell_type": "code",
      "source": [
        "# Static vs Dynamic Binding\n",
        "\n",
        "# static binding\n",
        "# int age = 36\n",
        "# age = \"Kislay\"\n",
        "\n",
        "# In other programming language the above code will throw the error because it doesnt support binding"
      ],
      "metadata": {
        "id": "sOmB8vKr-Wn-"
      },
      "execution_count": 77,
      "outputs": []
    },
    {
      "cell_type": "code",
      "source": [
        "# Dynamic Binding\n",
        "age = 36\n",
        "print(age)\n",
        "print(type(age))\n",
        "age = \"kislay\"\n",
        "print(age)\n",
        "print(type(age))\n"
      ],
      "metadata": {
        "colab": {
          "base_uri": "https://localhost:8080/"
        },
        "id": "FOTuPE_x-7Wz",
        "outputId": "e046bb06-073d-4ad1-87e9-33c178a3f51c"
      },
      "execution_count": 81,
      "outputs": [
        {
          "output_type": "stream",
          "name": "stdout",
          "text": [
            "36\n",
            "<class 'int'>\n",
            "kislay\n",
            "<class 'str'>\n"
          ]
        }
      ]
    },
    {
      "cell_type": "code",
      "source": [
        "age = 34"
      ],
      "metadata": {
        "id": "KtTyoswD_AmA"
      },
      "execution_count": 82,
      "outputs": []
    },
    {
      "cell_type": "code",
      "source": [
        "# Stylized Declaration"
      ],
      "metadata": {
        "id": "yKbsEsHA_eeT"
      },
      "execution_count": 83,
      "outputs": []
    },
    {
      "cell_type": "code",
      "source": [
        "name, age = \"Kislay\", 23\n",
        "\n",
        "print(name)\n",
        "print(age)"
      ],
      "metadata": {
        "colab": {
          "base_uri": "https://localhost:8080/"
        },
        "id": "MfExUGCS_jJ9",
        "outputId": "863220fa-18ab-48d6-fb00-ec98003a93da"
      },
      "execution_count": 87,
      "outputs": [
        {
          "output_type": "stream",
          "name": "stdout",
          "text": [
            "Kislay\n",
            "23\n"
          ]
        }
      ]
    },
    {
      "cell_type": "code",
      "source": [
        "a = b = 2\n",
        "print(a)\n",
        "print(b)"
      ],
      "metadata": {
        "colab": {
          "base_uri": "https://localhost:8080/"
        },
        "id": "RvxVg_Ya_pAk",
        "outputId": "58ee5c4c-780a-4ab8-fcbc-132e84780ce2"
      },
      "execution_count": 88,
      "outputs": [
        {
          "output_type": "stream",
          "name": "stdout",
          "text": [
            "2\n",
            "2\n"
          ]
        }
      ]
    },
    {
      "cell_type": "code",
      "source": [
        "# Comments\n",
        "# Hi how are you\n",
        "\n"
      ],
      "metadata": {
        "id": "tQkMRG69_2oZ"
      },
      "execution_count": 90,
      "outputs": []
    },
    {
      "cell_type": "code",
      "source": [
        "# Compiler/Interpretator"
      ],
      "metadata": {
        "id": "U6QfI5aLAZUt"
      },
      "execution_count": 91,
      "outputs": []
    },
    {
      "cell_type": "code",
      "source": [
        "# Compiled languages -> The whole code has to be executed before getting the output -> java\n",
        "# Interpreted language -> The execution happens line by line -> python"
      ],
      "metadata": {
        "id": "njt6TPu4AqUg"
      },
      "execution_count": 92,
      "outputs": []
    },
    {
      "cell_type": "code",
      "source": [],
      "metadata": {
        "id": "hSzjuUrnBHFD"
      },
      "execution_count": null,
      "outputs": []
    }
  ]
}