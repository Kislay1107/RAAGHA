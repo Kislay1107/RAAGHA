{
  "cells": [
    {
      "cell_type": "code",
      "execution_count": 1,
      "metadata": {
        "id": "f4Y5p7qw1M3D"
      },
      "outputs": [],
      "source": [
        "# showing the output the enduser"
      ]
    },
    {
      "cell_type": "code",
      "execution_count": 8,
      "metadata": {
        "colab": {
          "base_uri": "https://localhost:8080/"
        },
        "id": "5vMMrCEE1c8z",
        "outputId": "15fa0180-ccbe-464e-b33e-a160a81f38b9"
      },
      "outputs": [
        {
          "name": "stdout",
          "output_type": "stream",
          "text": [
            "Kislay\n"
          ]
        }
      ],
      "source": [
        "# func_name()\n",
        "\n",
        "print('Kislay')"
      ]
    },
    {
      "cell_type": "code",
      "execution_count": 5,
      "metadata": {
        "colab": {
          "base_uri": "https://localhost:8080/",
          "height": 108
        },
        "id": "VCdohC3P1sv0",
        "outputId": "298f7eaf-6440-431b-ff66-2e184a4c68ab"
      },
      "outputs": [
        {
          "ename": "SyntaxError",
          "evalue": "invalid syntax. Perhaps you forgot a comma? (ipython-input-1858157907.py, line 1)",
          "output_type": "error",
          "traceback": [
            "\u001b[0;36m  File \u001b[0;32m\"/tmp/ipython-input-1858157907.py\"\u001b[0;36m, line \u001b[0;32m1\u001b[0m\n\u001b[0;31m    print(I am Kislay, how are you)\u001b[0m\n\u001b[0m          ^\u001b[0m\n\u001b[0;31mSyntaxError\u001b[0m\u001b[0;31m:\u001b[0m invalid syntax. Perhaps you forgot a comma?\n"
          ]
        }
      ],
      "source": [
        "print(I am Kislay, how are you)"
      ]
    },
    {
      "cell_type": "code",
      "execution_count": 6,
      "metadata": {
        "colab": {
          "base_uri": "https://localhost:8080/"
        },
        "id": "XiRTAlGz2bsx",
        "outputId": "9cee411e-06b2-45be-e331-6cd6b6eadd92"
      },
      "outputs": [
        {
          "name": "stdout",
          "output_type": "stream",
          "text": [
            "5\n",
            "1.5\n"
          ]
        }
      ],
      "source": [
        "print(5)\n",
        "print(1.5)"
      ]
    },
    {
      "cell_type": "code",
      "execution_count": 9,
      "metadata": {
        "id": "-WJYSbTV26Gt"
      },
      "outputs": [],
      "source": [
        "# Numbers - Integer, float, Complex we dont need the double quotation/single quotation\n",
        "# String - needs the double quotation/single quotation"
      ]
    },
    {
      "cell_type": "code",
      "execution_count": 10,
      "metadata": {
        "id": "KjSxZGXW3I4Y"
      },
      "outputs": [],
      "source": [
        "# Data Types including complex numbers"
      ]
    },
    {
      "cell_type": "code",
      "execution_count": 21,
      "metadata": {
        "colab": {
          "base_uri": "https://localhost:8080/"
        },
        "id": "3pxkqdwb3mNL",
        "outputId": "22f58991-b05f-46a8-ec6c-b1c8f135ec35"
      },
      "outputs": [
        {
          "name": "stdout",
          "output_type": "stream",
          "text": [
            "Hi how are you\n"
          ]
        }
      ],
      "source": [
        "# string\n",
        "print(\"Hi how are you\")"
      ]
    },
    {
      "cell_type": "code",
      "execution_count": 56,
      "metadata": {
        "colab": {
          "base_uri": "https://localhost:8080/"
        },
        "id": "XMLqIwPb3pLq",
        "outputId": "65c96e08-12b5-49a1-e193-0079b807a22a"
      },
      "outputs": [
        {
          "name": "stdout",
          "output_type": "stream",
          "text": [
            "3\n",
            "-3\n"
          ]
        },
        {
          "data": {
            "text/plain": [
              "int"
            ]
          },
          "execution_count": 56,
          "metadata": {},
          "output_type": "execute_result"
        }
      ],
      "source": [
        "# integer\n",
        "print(3)\n",
        "print(-3)\n",
        "\n",
        "type(3)"
      ]
    },
    {
      "cell_type": "code",
      "execution_count": 25,
      "metadata": {
        "colab": {
          "base_uri": "https://localhost:8080/"
        },
        "id": "t-9B1mE94a11",
        "outputId": "0d824eea-29d8-45e2-a475-f47fe05909f2"
      },
      "outputs": [
        {
          "name": "stdout",
          "output_type": "stream",
          "text": [
            "inf\n"
          ]
        }
      ],
      "source": [
        "print(1e309)"
      ]
    },
    {
      "cell_type": "code",
      "execution_count": 57,
      "metadata": {
        "colab": {
          "base_uri": "https://localhost:8080/"
        },
        "id": "lQmyIZP03qiq",
        "outputId": "b4562955-20cb-4888-d778-f8a747211520"
      },
      "outputs": [
        {
          "name": "stdout",
          "output_type": "stream",
          "text": [
            "3.34224\n",
            "-3.123123\n"
          ]
        },
        {
          "data": {
            "text/plain": [
              "float"
            ]
          },
          "execution_count": 57,
          "metadata": {},
          "output_type": "execute_result"
        }
      ],
      "source": [
        "# float or decimal number\n",
        "print(3.34224)\n",
        "print(-3.123123)\n",
        "\n",
        "type(3.4)"
      ]
    },
    {
      "cell_type": "code",
      "execution_count": 30,
      "metadata": {
        "colab": {
          "base_uri": "https://localhost:8080/"
        },
        "id": "-1aFAEBW42ao",
        "outputId": "c7a486d6-1b27-4ad5-e7d7-eb21a5250d85"
      },
      "outputs": [
        {
          "name": "stdout",
          "output_type": "stream",
          "text": [
            "1.1e+308\n"
          ]
        }
      ],
      "source": [
        "print(1.1e308)"
      ]
    },
    {
      "cell_type": "code",
      "execution_count": 58,
      "metadata": {
        "colab": {
          "base_uri": "https://localhost:8080/"
        },
        "id": "sjYwfYWn3rkp",
        "outputId": "09ccf549-a9cf-48fa-dada-39280ec28f0c"
      },
      "outputs": [
        {
          "name": "stdout",
          "output_type": "stream",
          "text": [
            "(2.7+3j)\n"
          ]
        },
        {
          "data": {
            "text/plain": [
              "complex"
            ]
          },
          "execution_count": 58,
          "metadata": {},
          "output_type": "execute_result"
        }
      ],
      "source": [
        "# complex\n",
        "print(2.7 + 3j)\n",
        "\n",
        "type(2.7 + 3j)"
      ]
    },
    {
      "cell_type": "code",
      "execution_count": 59,
      "metadata": {
        "colab": {
          "base_uri": "https://localhost:8080/"
        },
        "id": "yIHWni5E3uG1",
        "outputId": "485141a1-e883-4db0-ce7c-7c4add708428"
      },
      "outputs": [
        {
          "name": "stdout",
          "output_type": "stream",
          "text": [
            "True\n"
          ]
        },
        {
          "data": {
            "text/plain": [
              "bool"
            ]
          },
          "execution_count": 59,
          "metadata": {},
          "output_type": "execute_result"
        }
      ],
      "source": [
        "# boolean\n",
        "print(True)\n",
        "\n",
        "type(True)"
      ]
    },
    {
      "cell_type": "code",
      "execution_count": 38,
      "metadata": {
        "colab": {
          "base_uri": "https://localhost:8080/"
        },
        "id": "Bg-UBT2U5thV",
        "outputId": "26e5885e-7463-45df-a506-03f26be4814c"
      },
      "outputs": [
        {
          "data": {
            "text/plain": [
              "False"
            ]
          },
          "execution_count": 38,
          "metadata": {},
          "output_type": "execute_result"
        }
      ],
      "source": [
        "False"
      ]
    },
    {
      "cell_type": "code",
      "execution_count": 40,
      "metadata": {
        "colab": {
          "base_uri": "https://localhost:8080/"
        },
        "id": "_ZsXQytG3xE3",
        "outputId": "fbcc355e-0b49-4e46-cb81-5bfd0e660d20"
      },
      "outputs": [
        {
          "name": "stdout",
          "output_type": "stream",
          "text": [
            "[1, 2, 3, 'Rahila', 'Megha12', True]\n"
          ]
        }
      ],
      "source": [
        "# list\n",
        "\n",
        "print([1,2,3, \"Rahila\", \"Megha12\", True])"
      ]
    },
    {
      "cell_type": "code",
      "execution_count": 60,
      "metadata": {
        "colab": {
          "base_uri": "https://localhost:8080/"
        },
        "id": "a485jwn633fT",
        "outputId": "a13a40ad-ee2d-442c-8c03-d1f41450c26d"
      },
      "outputs": [
        {
          "name": "stdout",
          "output_type": "stream",
          "text": [
            "(1, 2, 3, 'Rahila', 'Megha12', True)\n"
          ]
        },
        {
          "data": {
            "text/plain": [
              "tuple"
            ]
          },
          "execution_count": 60,
          "metadata": {},
          "output_type": "execute_result"
        }
      ],
      "source": [
        "# tuple\n",
        "print((1,2,3, \"Rahila\", \"Megha12\", True))\n",
        "\n",
        "type((1, 2, 3, 'Rahila', 'Megha12', True))"
      ]
    },
    {
      "cell_type": "code",
      "execution_count": 42,
      "metadata": {
        "colab": {
          "base_uri": "https://localhost:8080/"
        },
        "id": "CfPE7Kj234Pv",
        "outputId": "c4738709-3480-44bd-b39a-07330b19c8d3"
      },
      "outputs": [
        {
          "name": "stdout",
          "output_type": "stream",
          "text": [
            "{'Rahila', 1, 2, 3, 'Megha12'}\n"
          ]
        }
      ],
      "source": [
        "# set\n",
        "print({1,2,3, \"Rahila\", \"Megha12\", True})"
      ]
    },
    {
      "cell_type": "code",
      "execution_count": 61,
      "metadata": {
        "colab": {
          "base_uri": "https://localhost:8080/"
        },
        "id": "UzQSuiQv35cQ",
        "outputId": "f38e0247-b6a5-402e-a2df-cf07366e65e9"
      },
      "outputs": [
        {
          "name": "stdout",
          "output_type": "stream",
          "text": [
            "{'name': 'Kislay', 'age': 36, 'gender': 'male'}\n"
          ]
        },
        {
          "data": {
            "text/plain": [
              "dict"
            ]
          },
          "execution_count": 61,
          "metadata": {},
          "output_type": "execute_result"
        }
      ],
      "source": [
        "# dictionary -> key - value pair\n",
        "print({\"name\" : \"Kislay\", \"age\" : 36, \"gender\" : \"male\"})\n",
        "\n",
        "type({'name': 'Kislay', 'age': 36, 'gender': 'male'})"
      ]
    },
    {
      "cell_type": "code",
      "execution_count": 49,
      "metadata": {
        "colab": {
          "base_uri": "https://localhost:8080/"
        },
        "id": "i0eXxR5L610e",
        "outputId": "7c81623e-f11a-4999-a08b-57898a1c6832"
      },
      "outputs": [
        {
          "name": "stdout",
          "output_type": "stream",
          "text": [
            "Kislay-Megha-Rahila-"
          ]
        }
      ],
      "source": [
        "print(\"Kislay\", end = \"-\")\n",
        "print(\"Megha\", end = \"-\")\n",
        "print(\"Rahila\", end = \"-\")"
      ]
    },
    {
      "cell_type": "code",
      "execution_count": 54,
      "metadata": {
        "colab": {
          "base_uri": "https://localhost:8080/"
        },
        "id": "YgqOiY8S7Din",
        "outputId": "18e7a371-4088-4a0f-f0f9-64c569511a7e"
      },
      "outputs": [
        {
          "name": "stdout",
          "output_type": "stream",
          "text": [
            "Kislay Raj\n"
          ]
        }
      ],
      "source": [
        "print(\"Kislay\", \"Raj\", sep = \" \")"
      ]
    },
    {
      "cell_type": "code",
      "execution_count": 55,
      "metadata": {
        "colab": {
          "base_uri": "https://localhost:8080/"
        },
        "id": "WxJhH3727vO-",
        "outputId": "905af133-5665-4ce4-9330-e49eb9a1b842"
      },
      "outputs": [
        {
          "data": {
            "text/plain": [
              "str"
            ]
          },
          "execution_count": 55,
          "metadata": {},
          "output_type": "execute_result"
        }
      ],
      "source": [
        "type(\"Kislay\")"
      ]
    },
    {
      "cell_type": "code",
      "execution_count": 62,
      "metadata": {
        "colab": {
          "base_uri": "https://localhost:8080/"
        },
        "id": "yQq46khp8In5",
        "outputId": "a614bad2-38d7-455f-e708-c602f0404d5d"
      },
      "outputs": [
        {
          "data": {
            "text/plain": [
              "str"
            ]
          },
          "execution_count": 62,
          "metadata": {},
          "output_type": "execute_result"
        }
      ],
      "source": [
        "type(\"2\")"
      ]
    },
    {
      "cell_type": "code",
      "execution_count": 64,
      "metadata": {
        "id": "LRk7MGQv8z5a"
      },
      "outputs": [],
      "source": [
        "# Variables\n",
        "\n",
        "name = \"Kislay\""
      ]
    },
    {
      "cell_type": "code",
      "execution_count": 65,
      "metadata": {
        "colab": {
          "base_uri": "https://localhost:8080/"
        },
        "id": "P4OALuan87aQ",
        "outputId": "1c256655-2290-46f7-c180-6d010bf65819"
      },
      "outputs": [
        {
          "name": "stdout",
          "output_type": "stream",
          "text": [
            "Kislay\n"
          ]
        }
      ],
      "source": [
        "print(name)"
      ]
    },
    {
      "cell_type": "code",
      "execution_count": 66,
      "metadata": {
        "colab": {
          "base_uri": "https://localhost:8080/"
        },
        "id": "SfsnYsHM9Jzc",
        "outputId": "e29fe4fb-6243-4791-97bd-33e70a3140db"
      },
      "outputs": [
        {
          "name": "stdout",
          "output_type": "stream",
          "text": [
            "<class 'str'>\n"
          ]
        }
      ],
      "source": [
        "print(type(name))"
      ]
    },
    {
      "cell_type": "code",
      "execution_count": 67,
      "metadata": {
        "id": "FcUuzTvx9Oms"
      },
      "outputs": [],
      "source": [
        "age = 12\n",
        "is_married = False"
      ]
    },
    {
      "cell_type": "code",
      "execution_count": 68,
      "metadata": {
        "id": "9ccxdjoJ9ZkB"
      },
      "outputs": [],
      "source": [
        "c_num = 3 + 5j"
      ]
    },
    {
      "cell_type": "code",
      "execution_count": 73,
      "metadata": {
        "colab": {
          "base_uri": "https://localhost:8080/"
        },
        "id": "YgBRwHcT9eFf",
        "outputId": "bb709c80-1b1d-4811-8def-8a16d1d29faf"
      },
      "outputs": [
        {
          "data": {
            "text/plain": [
              "3.0"
            ]
          },
          "execution_count": 73,
          "metadata": {},
          "output_type": "execute_result"
        }
      ],
      "source": [
        "c_num.real"
      ]
    },
    {
      "cell_type": "code",
      "execution_count": 74,
      "metadata": {
        "id": "E77LtIeG9faX"
      },
      "outputs": [],
      "source": [
        "# Static vs Dynamic Typing"
      ]
    },
    {
      "cell_type": "code",
      "execution_count": 76,
      "metadata": {
        "id": "3_QyIdNH-I44"
      },
      "outputs": [],
      "source": [
        "# str name = \"Rahila\" -> Other programming language # Static Typing\n",
        "\n",
        "name = \"Rahila\"  # Dynamic Typing"
      ]
    },
    {
      "cell_type": "code",
      "execution_count": 77,
      "metadata": {
        "id": "sOmB8vKr-Wn-"
      },
      "outputs": [],
      "source": [
        "# Static vs Dynamic Binding\n",
        "\n",
        "# static binding\n",
        "# int age = 36\n",
        "# age = \"Kislay\"\n",
        "\n",
        "# In other programming language the above code will throw the error because it doesnt support binding"
      ]
    },
    {
      "cell_type": "code",
      "execution_count": 81,
      "metadata": {
        "colab": {
          "base_uri": "https://localhost:8080/"
        },
        "id": "FOTuPE_x-7Wz",
        "outputId": "e046bb06-073d-4ad1-87e9-33c178a3f51c"
      },
      "outputs": [
        {
          "name": "stdout",
          "output_type": "stream",
          "text": [
            "36\n",
            "<class 'int'>\n",
            "kislay\n",
            "<class 'str'>\n"
          ]
        }
      ],
      "source": [
        "# Dynamic Binding\n",
        "age = 36\n",
        "print(age)\n",
        "print(type(age))\n",
        "age = \"kislay\"\n",
        "print(age)\n",
        "print(type(age))\n"
      ]
    },
    {
      "cell_type": "code",
      "execution_count": 82,
      "metadata": {
        "id": "KtTyoswD_AmA"
      },
      "outputs": [],
      "source": [
        "age = 34"
      ]
    },
    {
      "cell_type": "code",
      "execution_count": 83,
      "metadata": {
        "id": "yKbsEsHA_eeT"
      },
      "outputs": [],
      "source": [
        "# Stylized Declaration"
      ]
    },
    {
      "cell_type": "code",
      "execution_count": 87,
      "metadata": {
        "colab": {
          "base_uri": "https://localhost:8080/"
        },
        "id": "MfExUGCS_jJ9",
        "outputId": "863220fa-18ab-48d6-fb00-ec98003a93da"
      },
      "outputs": [
        {
          "name": "stdout",
          "output_type": "stream",
          "text": [
            "Kislay\n",
            "23\n"
          ]
        }
      ],
      "source": [
        "name, age = \"Kislay\", 23\n",
        "\n",
        "print(name)\n",
        "print(age)"
      ]
    },
    {
      "cell_type": "code",
      "execution_count": 88,
      "metadata": {
        "colab": {
          "base_uri": "https://localhost:8080/"
        },
        "id": "RvxVg_Ya_pAk",
        "outputId": "58ee5c4c-780a-4ab8-fcbc-132e84780ce2"
      },
      "outputs": [
        {
          "name": "stdout",
          "output_type": "stream",
          "text": [
            "2\n",
            "2\n"
          ]
        }
      ],
      "source": [
        "a = b = 2\n",
        "print(a)\n",
        "print(b)"
      ]
    },
    {
      "cell_type": "code",
      "execution_count": 90,
      "metadata": {
        "id": "tQkMRG69_2oZ"
      },
      "outputs": [],
      "source": [
        "# Comments\n",
        "# Hi how are you\n",
        "\n"
      ]
    },
    {
      "cell_type": "code",
      "execution_count": 91,
      "metadata": {
        "id": "U6QfI5aLAZUt"
      },
      "outputs": [],
      "source": [
        "# Compiler/Interpretator"
      ]
    },
    {
      "cell_type": "code",
      "execution_count": 92,
      "metadata": {
        "id": "njt6TPu4AqUg"
      },
      "outputs": [],
      "source": [
        "# Compiled languages -> The whole code has to be executed before getting the output -> java\n",
        "# Interpreted language -> The execution happens line by line -> python"
      ]
    },
    {
      "cell_type": "code",
      "execution_count": 72,
      "metadata": {
        "id": "hSzjuUrnBHFD"
      },
      "outputs": [
        {
          "data": {
            "text/plain": [
              "0.75"
            ]
          },
          "execution_count": 72,
          "metadata": {},
          "output_type": "execute_result"
        }
      ],
      "source": [
        "# Type Conversion - Implicit/ Explicit\n",
        "\n",
        "3/4"
      ]
    },
    {
      "cell_type": "code",
      "execution_count": 74,
      "metadata": {},
      "outputs": [
        {
          "data": {
            "text/plain": [
              "1.75"
            ]
          },
          "execution_count": 74,
          "metadata": {},
          "output_type": "execute_result"
        }
      ],
      "source": [
        "# Implicit conversion\n",
        "3.5/2"
      ]
    },
    {
      "cell_type": "code",
      "execution_count": 76,
      "metadata": {},
      "outputs": [],
      "source": [
        "# Explicit conversion\n",
        "\n",
        "# height = int(input(\"Enter the height: \"))\n",
        "# weight = float(input(\"Enter the age: \"))\n",
        "\n",
        "# Write a program which will ask the user to give the age and the weight and you will have to calculate the BMI.\n",
        "\n",
        "# weight/(height ** 2)"
      ]
    },
    {
      "cell_type": "code",
      "execution_count": 81,
      "metadata": {},
      "outputs": [],
      "source": [
        "age = 18\n",
        "# 18 is the literal\n",
        "\n",
        "# age is the name of the placeholder and it is called as identifier\n",
        "# 18 is the value stored in the variable and it is called as literal"
      ]
    },
    {
      "cell_type": "code",
      "execution_count": 90,
      "metadata": {},
      "outputs": [],
      "source": [
        "# integer literal\n",
        "age = 18\n",
        "\n",
        "# string literal\n",
        "name = \"Rahila\"\n",
        "\n",
        "# Boolean literal\n",
        "is_working = True\n",
        "\n",
        "# Float/Decimal literal\n",
        "height = 1.8\n",
        "\n"
      ]
    },
    {
      "cell_type": "code",
      "execution_count": 86,
      "metadata": {},
      "outputs": [
        {
          "name": "stdout",
          "output_type": "stream",
          "text": [
            "10\n"
          ]
        }
      ],
      "source": [
        "# Binary Literal - 0b1001 \n",
        "\n",
        "bin_var = 0b1010\n",
        "print(bin_var)"
      ]
    },
    {
      "cell_type": "code",
      "execution_count": 87,
      "metadata": {},
      "outputs": [
        {
          "name": "stdout",
          "output_type": "stream",
          "text": [
            "83\n"
          ]
        }
      ],
      "source": [
        "# Octal Literal - 0o123  \n",
        "\n",
        "oct_var = 0o123\n",
        "print(oct_var)"
      ]
    },
    {
      "cell_type": "code",
      "execution_count": 91,
      "metadata": {},
      "outputs": [
        {
          "name": "stdout",
          "output_type": "stream",
          "text": [
            "11259375\n"
          ]
        }
      ],
      "source": [
        "# hexadecimal Literal - 0xABC_DEF \n",
        "\n",
        "print(0xABC_DEF)"
      ]
    },
    {
      "cell_type": "code",
      "execution_count": 96,
      "metadata": {},
      "outputs": [
        {
          "name": "stdout",
          "output_type": "stream",
          "text": [
            "1e+205\n"
          ]
        }
      ],
      "source": [
        "# exponentiona literal \n",
        "print(10e204)"
      ]
    },
    {
      "cell_type": "code",
      "execution_count": 97,
      "metadata": {},
      "outputs": [
        {
          "name": "stdout",
          "output_type": "stream",
          "text": [
            "(3+5j)\n"
          ]
        }
      ],
      "source": [
        "# Complex Literal\n",
        "print(3 + 5j)"
      ]
    },
    {
      "cell_type": "code",
      "execution_count": 98,
      "metadata": {},
      "outputs": [],
      "source": [
        "None"
      ]
    },
    {
      "cell_type": "code",
      "execution_count": 104,
      "metadata": {},
      "outputs": [],
      "source": [
        "# None is basically used when we dont have any values to assign to the variables. None means nothing-ness\n",
        "\n",
        "name_2 = None\n",
        "age_2 = None\n",
        "gender_2 = None\n",
        "\n",
        "\n",
        "\n",
        "\n"
      ]
    },
    {
      "cell_type": "code",
      "execution_count": 111,
      "metadata": {},
      "outputs": [
        {
          "name": "stdout",
          "output_type": "stream",
          "text": [
            "The final age is 55\n",
            "<class 'int'>\n",
            "The final age is 55\n"
          ]
        }
      ],
      "source": [
        "# Type Casting/Type Conversion\n",
        "\n",
        "# in python we have type conversion\n",
        "\n",
        "age = int(input(\"Please enter the age: \"))\n",
        "\n",
        "print(\"The final age is\", age + 10)\n",
        "\n",
        "print(type(age))\n",
        "\n",
        "print(\"The final age is\", age + 10)"
      ]
    },
    {
      "cell_type": "code",
      "execution_count": null,
      "metadata": {},
      "outputs": [],
      "source": []
    }
  ],
  "metadata": {
    "colab": {
      "provenance": []
    },
    "kernelspec": {
      "display_name": "Python 3",
      "name": "python3"
    },
    "language_info": {
      "name": "python"
    }
  },
  "nbformat": 4,
  "nbformat_minor": 0
}
